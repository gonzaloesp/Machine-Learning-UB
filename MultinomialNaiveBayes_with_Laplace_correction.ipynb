{
 "cells": [
  {
   "cell_type": "markdown",
   "metadata": {},
   "source": [
    "### Multinomial Naive Bayes\n",
    "\n",
    "This is an update version of Carme's Jupyter. She implemented a Simple Multinomial Naive Bayes. This new version allows the correction of zero probability effect through the alpha hyperparameter. If alpha = 1, Laplace correction is computed. When 0 < alpha < 1, the correction is called Lipstone. Finally, if alpha = 0, the simple Multinomial Naive Bayes is computed. "
   ]
  },
  {
   "cell_type": "code",
   "execution_count": 1,
   "metadata": {
    "collapsed": true
   },
   "outputs": [],
   "source": [
    "%matplotlib inline\n",
    "import matplotlib.pyplot as plt\n",
    "import numpy as np"
   ]
  },
  {
   "cell_type": "code",
   "execution_count": 127,
   "metadata": {
    "collapsed": true
   },
   "outputs": [],
   "source": [
    "import numpy as np\n",
    "\n",
    "class MultinomialNaiveBayes():\n",
    "    def __init__(self, alpha = 1):\n",
    "        self.prob_vec = {}\n",
    "        self.classes  = []\n",
    "        self.alpha = alpha\n",
    "        \n",
    "    def fit(self,X,y):\n",
    "        # extract the probabilities for each element for different classes\n",
    "        self.classes = np.unique(y)\n",
    "        occurences = np.where(X != 0, 1.0, 0.0)\n",
    "        for c in self.classes:\n",
    "            idx = np.where(y==c)[0]\n",
    "            N = len(idx)\n",
    "            \n",
    "            self.prob_vec[c] = np.log((np.sum(occurences[idx,:],axis=0) + self.alpha)/(N + self.alpha*X.shape[0])+1e-10)\n",
    "        \n",
    "    def predict_proba(self,X):\n",
    "        #Output matrix N_documents X N_classes\n",
    "        probs = np.zeros((X.shape[0],len(self.classes)))\n",
    "        i=0\n",
    "        for k in self.classes:\n",
    "\n",
    "            probs[:,i] = np.dot(X,self.prob_vec[k].T).ravel()\n",
    "            i+=1\n",
    "        return probs\n",
    "    \n",
    "    def predict(self,X):\n",
    "        return self.classes[np.argmax(self.predict_proba(X),axis =1)]"
   ]
  },
  {
   "cell_type": "markdown",
   "metadata": {},
   "source": [
    "### Mock problem"
   ]
  },
  {
   "cell_type": "code",
   "execution_count": 128,
   "metadata": {
    "collapsed": true
   },
   "outputs": [],
   "source": [
    "X=np.array([[1,1,1,0,0,0],[0,1,1,0,0,1],[0,0,0,1,1,1],[1,0,1,1,1,0]],dtype=np.float)"
   ]
  },
  {
   "cell_type": "code",
   "execution_count": 129,
   "metadata": {
    "collapsed": true
   },
   "outputs": [],
   "source": [
    "y = [0,0,1,1]"
   ]
  },
  {
   "cell_type": "code",
   "execution_count": 130,
   "metadata": {
    "collapsed": true
   },
   "outputs": [],
   "source": [
    "clf = MultinomialNaiveBayes()"
   ]
  },
  {
   "cell_type": "code",
   "execution_count": 131,
   "metadata": {
    "collapsed": true
   },
   "outputs": [],
   "source": [
    "clf.fit(X,y)"
   ]
  },
  {
   "cell_type": "code",
   "execution_count": 132,
   "metadata": {},
   "outputs": [
    {
     "data": {
      "text/plain": [
       "array([0, 1])"
      ]
     },
     "execution_count": 132,
     "metadata": {},
     "output_type": "execute_result"
    }
   ],
   "source": [
    "clf.classes"
   ]
  },
  {
   "cell_type": "code",
   "execution_count": 133,
   "metadata": {},
   "outputs": [
    {
     "data": {
      "text/plain": [
       "{0: array([-1.09861229, -0.69314718, -0.69314718, -1.79175947, -1.79175947,\n",
       "        -1.09861229]),\n",
       " 1: array([-1.09861229, -1.79175947, -1.09861229, -0.69314718, -0.69314718,\n",
       "        -1.09861229])}"
      ]
     },
     "execution_count": 133,
     "metadata": {},
     "output_type": "execute_result"
    }
   ],
   "source": [
    "clf.prob_vec"
   ]
  },
  {
   "cell_type": "code",
   "execution_count": 134,
   "metadata": {},
   "outputs": [
    {
     "data": {
      "text/plain": [
       "array([[-2.48490665, -3.98898405],\n",
       "       [-2.48490665, -3.98898405],\n",
       "       [-4.68213123, -2.48490665],\n",
       "       [-5.37527841, -3.58351894]])"
      ]
     },
     "execution_count": 134,
     "metadata": {},
     "output_type": "execute_result"
    }
   ],
   "source": [
    "clf.predict_proba(X)"
   ]
  },
  {
   "cell_type": "code",
   "execution_count": 135,
   "metadata": {},
   "outputs": [
    {
     "data": {
      "text/plain": [
       "array([0, 0, 1, 1])"
      ]
     },
     "execution_count": 135,
     "metadata": {},
     "output_type": "execute_result"
    }
   ],
   "source": [
    "clf.predict(X)"
   ]
  },
  {
   "cell_type": "markdown",
   "metadata": {},
   "source": [
    "### NY Times dataset"
   ]
  },
  {
   "cell_type": "code",
   "execution_count": 136,
   "metadata": {
    "collapsed": true
   },
   "outputs": [],
   "source": [
    "#load data\n",
    "import pandas as pd\n",
    "data=pd.read_csv('./files11/Boydstun_NYT_FrontPage_Dataset_1996-2006_0.csv')"
   ]
  },
  {
   "cell_type": "code",
   "execution_count": 137,
   "metadata": {},
   "outputs": [
    {
     "name": "stdout",
     "output_type": "stream",
     "text": [
      "Check the split sizes, train, test and total amount of data:\n",
      "(23584,) (7450,) (31034,)\n",
      "Display the labels:\n",
      "[ 1  2  3  4  5  6  7  8 10 12 13 14 15 16 17 18 19 20 21 24 26 27 28 29 30\n",
      " 31 99]\n"
     ]
    }
   ],
   "source": [
    "import numpy as np\n",
    "#Let us train the classifier with data up to 1/1/2004 and test its performnace in data from 2004-2006\n",
    "split = pd.to_datetime(pd.Series(data['Date']))<pd.datetime(2004, 1, 1)\n",
    "raw_data = data['Title']\n",
    "raw_train = raw_data[split]\n",
    "raw_test = raw_data[np.logical_not(split)]\n",
    "y = data['Topic_2digit']\n",
    "y_train = y[split]\n",
    "y_test = y[np.logical_not(split)]\n",
    "print ('Check the split sizes, train, test and total amount of data:')\n",
    "print (raw_train.shape, raw_test.shape, raw_data.shape)\n",
    "print ('Display the labels:')\n",
    "print (np.unique(y))"
   ]
  },
  {
   "cell_type": "code",
   "execution_count": 138,
   "metadata": {},
   "outputs": [
    {
     "name": "stdout",
     "output_type": "stream",
     "text": [
      "Example: Nation's Smaller Jails Struggle To Cope With Surge in Inmates \n",
      "\n",
      "Preprocessed: nation's smaller jails struggle to cope with surge in inmates \n",
      "\n",
      "Tokenized:['Nation', 'Smaller', 'Jails', 'Struggle', 'To', 'Cope', 'With', 'Surge', 'in', 'Inmates']\n",
      "\n",
      "Analyzed data string:['nation', 'smaller', 'jails', 'struggle', 'cope', 'surge', 'inmates']\n",
      "\n",
      "Number of tokens: 8950\n",
      "\n",
      "Extract of tokens:\n",
      "['boeing', 'boiling', 'boils', 'bold', 'bolster', 'bolsters', 'bolt', 'bolts', 'bomb', 'bombay', 'bombed', 'bomber', 'bombers', 'bombing', 'bombings', 'bombs', 'bonanza', 'bond', 'bondage', 'bonds', 'bone', 'bones', 'bonn', 'bono', 'bonus', 'bonuses', 'book', 'books', 'booksellers', 'bookstore', 'boom', 'boomers', 'booming', 'booms', 'boost', 'boot', 'bora', 'border', 'borders', 'born', 'borough', 'boroughs', 'borrow', 'borrowing', 'bosnia', 'bosnian', 'bosnians', 'boss', 'bosses', 'boston', 'botched', 'bottle', 'bought', 'bounce', 'bound', 'bounty', 'bout', 'bow', 'bowing', 'bowl', 'bows', 'box', 'boxes', 'boxing', 'boy', 'boycott', 'boys', 'brace', 'braced', 'braces', 'bracket', 'bradley', 'brain', 'brains', 'branches', 'brand', 'brash', 'brave', 'bravery', 'braves', 'brawl', 'brawley', 'brazil', 'brazilian', 'breach', 'breaches', 'bread', 'break', 'breakdown', 'breaking', 'breaks', 'breakthrough', 'breakup', 'breast', 'breather', 'breed', 'brewers', 'brewing', 'bribery', 'bricks']\n"
     ]
    }
   ],
   "source": [
    "# Let us tokenize the data\n",
    "from sklearn.feature_extraction.text import CountVectorizer\n",
    "\n",
    "# We use the count number of instances considering that a word has a minimum support of two documents\n",
    "vectorizer = CountVectorizer(min_df=2, \n",
    "# stop words such as 'and', 'the', 'of' are removed                             \n",
    " stop_words='english', \n",
    " strip_accents='unicode')\n",
    "\n",
    "#example of the tokenization\n",
    "test_string = raw_train[0]\n",
    "print (\"Example: \" + test_string +\"\\n\")\n",
    "print (\"Preprocessed: \" + vectorizer.build_preprocessor()(test_string)+\"\\n\")\n",
    "print (\"Tokenized:\" + str(vectorizer.build_tokenizer()(test_string))+\"\\n\")\n",
    "print (\"Analyzed data string:\" + str(vectorizer.build_analyzer()(test_string))+\"\\n\")\n",
    "\n",
    "\n",
    "#Process and convert data\n",
    "X_train = vectorizer.fit_transform(raw_train)\n",
    "X_test = vectorizer.transform(raw_test)\n",
    "\n",
    "print (\"Number of tokens: \" + str(len(vectorizer.get_feature_names())) +\"\\n\")\n",
    "print (\"Extract of tokens:\")\n",
    "print (vectorizer.get_feature_names()[1000:1100])"
   ]
  },
  {
   "cell_type": "code",
   "execution_count": 139,
   "metadata": {
    "collapsed": true
   },
   "outputs": [],
   "source": [
    "X_train = X_train.todense()\n",
    "X_train = X_train.astype(np.float)\n",
    "X_test = X_test.todense()\n",
    "X_test = X_test.astype(np.float)\n",
    "y_train = np.array(y_train.tolist())"
   ]
  },
  {
   "cell_type": "markdown",
   "metadata": {},
   "source": [
    "### Our Multinomial NaiveBayes"
   ]
  },
  {
   "cell_type": "code",
   "execution_count": 143,
   "metadata": {},
   "outputs": [
    {
     "name": "stdout",
     "output_type": "stream",
     "text": [
      "classification accuracy: 0.489932885906\n",
      "Classification Report:\n",
      "             precision    recall  f1-score   support\n",
      "\n",
      "          1       0.59      0.47      0.52       144\n",
      "          2       0.15      0.63      0.25        68\n",
      "          3       0.58      0.68      0.63       371\n",
      "          4       0.03      0.33      0.06         3\n",
      "          5       0.12      0.65      0.20        34\n",
      "          6       0.44      0.76      0.56       115\n",
      "          7       0.09      0.36      0.14        14\n",
      "          8       0.11      0.73      0.19        11\n",
      "         10       0.12      0.62      0.20        24\n",
      "         12       0.46      0.47      0.47       427\n",
      "         13       0.05      0.67      0.09         3\n",
      "         14       0.03      0.83      0.07         6\n",
      "         15       0.20      0.50      0.29       133\n",
      "         16       0.61      0.53      0.57      1540\n",
      "         17       0.18      0.79      0.30        33\n",
      "         18       0.00      0.00      0.00         4\n",
      "         19       0.78      0.39      0.52      2940\n",
      "         20       0.71      0.53      0.61      1264\n",
      "         21       0.04      0.43      0.08         7\n",
      "         24       0.17      0.54      0.25        46\n",
      "         26       0.18      0.77      0.29        44\n",
      "         27       0.04      1.00      0.07         1\n",
      "         28       0.11      0.51      0.18        37\n",
      "         29       0.41      0.65      0.50       146\n",
      "         30       0.34      0.81      0.48        27\n",
      "         31       0.03      0.60      0.05         5\n",
      "         99       0.00      0.00      0.00         3\n",
      "\n",
      "avg / total       0.65      0.49      0.53      7450\n",
      "\n"
     ]
    },
    {
     "data": {
      "image/png": "[encoded data removed]",
      "text/plain": [
       "<matplotlib.figure.Figure at 0x2a3605d4240>"
      ]
     },
     "metadata": {},
     "output_type": "display_data"
    }
   ],
   "source": [
    "clf = MultinomialNaiveBayes(alpha = 1)       # Laplace correction\n",
    "clf.fit(X_train,y_train)\n",
    "y_hat = clf.predict(X_test)\n",
    "\n",
    "from sklearn import metrics\n",
    "import matplotlib.pyplot as plt\n",
    "def plot_confusion_matrix(y_pred, y):\n",
    "    plt.imshow(metrics.confusion_matrix(y, y_pred), interpolation='nearest',cmap='gray')\n",
    "    plt.colorbar()\n",
    "    plt.ylabel('true value')\n",
    "    plt.xlabel('predicted value')\n",
    "    fig = plt.gcf()\n",
    "    fig.set_size_inches(9,9)    \n",
    "    \n",
    "print (\"classification accuracy:\", metrics.accuracy_score(y_hat, y_test))\n",
    "plot_confusion_matrix(y_hat, y_test)\n",
    "print (\"Classification Report:\")\n",
    "print (metrics.classification_report(y_hat,np.array(y_test)))"
   ]
  },
  {
   "cell_type": "markdown",
   "metadata": {},
   "source": [
    "###  Result of sklearn Multinomial"
   ]
  },
  {
   "cell_type": "code",
   "execution_count": 141,
   "metadata": {},
   "outputs": [
    {
     "name": "stdout",
     "output_type": "stream",
     "text": [
      "classification accuracy: 0.53355704698\n",
      "Classification Report:\n",
      "             precision    recall  f1-score   support\n",
      "\n",
      "          1       0.70      0.44      0.54       181\n",
      "          2       0.26      0.58      0.36       124\n",
      "          3       0.70      0.59      0.64       521\n",
      "          4       0.07      0.67      0.12         3\n",
      "          5       0.24      0.61      0.34        72\n",
      "          6       0.64      0.66      0.65       190\n",
      "          7       0.20      0.50      0.28        22\n",
      "          8       0.28      0.77      0.41        26\n",
      "         10       0.23      0.55      0.32        51\n",
      "         12       0.56      0.39      0.46       629\n",
      "         13       0.16      0.78      0.27         9\n",
      "         14       0.11      0.84      0.20        19\n",
      "         15       0.29      0.39      0.34       249\n",
      "         16       0.62      0.57      0.60      1440\n",
      "         17       0.31      0.63      0.42        70\n",
      "         18       0.04      0.20      0.07         5\n",
      "         19       0.69      0.50      0.58      2064\n",
      "         20       0.74      0.57      0.64      1217\n",
      "         21       0.11      0.80      0.20        10\n",
      "         24       0.32      0.60      0.42        81\n",
      "         26       0.26      0.69      0.38        72\n",
      "         27       0.00      0.00      0.00         0\n",
      "         28       0.19      0.38      0.25        84\n",
      "         29       0.61      0.53      0.57       268\n",
      "         30       0.47      0.91      0.62        33\n",
      "         31       0.08      0.89      0.14         9\n",
      "         99       0.00      0.00      0.00         1\n",
      "\n",
      "avg / total       0.62      0.53      0.56      7450\n",
      "\n"
     ]
    },
    {
     "name": "stderr",
     "output_type": "stream",
     "text": [
      "C:\\Users\\gonzalo.espinosa\\Anaconda3\\lib\\site-packages\\sklearn\\metrics\\classification.py:1137: UndefinedMetricWarning: Recall and F-score are ill-defined and being set to 0.0 in labels with no true samples.\n",
      "  'recall', 'true', average, warn_for)\n"
     ]
    },
    {
     "data": {
      "image/png": "[encoded data removed]",
      "text/plain": [
       "<matplotlib.figure.Figure at 0x2a35e95b4e0>"
      ]
     },
     "metadata": {},
     "output_type": "display_data"
    }
   ],
   "source": [
    "from sklearn.naive_bayes import MultinomialNB\n",
    "nb = MultinomialNB(alpha=1)                         # Laplace correction\n",
    "nb.fit(X_train,y_train)\n",
    "y_hat = nb.predict(X_test)\n",
    "\n",
    "\n",
    "from sklearn import metrics\n",
    "import matplotlib.pyplot as plt\n",
    "def plot_confusion_matrix(y_pred, y):\n",
    "    plt.imshow(metrics.confusion_matrix(y, y_pred), interpolation='nearest',cmap='gray')\n",
    "    plt.colorbar()\n",
    "    plt.ylabel('true value')\n",
    "    plt.xlabel('predicted value')\n",
    "    fig = plt.gcf()\n",
    "    fig.set_size_inches(9,9)    \n",
    "    \n",
    "print (\"classification accuracy:\", metrics.accuracy_score(y_hat, y_test))\n",
    "plot_confusion_matrix(y_hat, y_test)\n",
    "print (\"Classification Report:\")\n",
    "print (metrics.classification_report(y_hat,np.array(y_test)))"
   ]
  },
  {
   "cell_type": "code",
   "execution_count": null,
   "metadata": {
    "collapsed": true
   },
   "outputs": [],
   "source": []
  }
 ],
 "metadata": {
  "kernelspec": {
   "display_name": "Python [default]",
   "language": "python",
   "name": "python3"
  },
  "language_info": {
   "codemirror_mode": {
    "name": "ipython",
    "version": 3
   },
   "file_extension": ".py",
   "mimetype": "text/x-python",
   "name": "python",
   "nbconvert_exporter": "python",
   "pygments_lexer": "ipython3",
   "version": "3.6.1"
  }
 },
 "nbformat": 4,
 "nbformat_minor": 1
}
